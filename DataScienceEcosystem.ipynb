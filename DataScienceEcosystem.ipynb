{
 "cells": [
  {
   "cell_type": "markdown",
   "id": "848ca058-bcb8-4e6e-bff1-49da32ca6cc6",
   "metadata": {},
   "source": [
    "# Data Science Tools and Ecosystem "
   ]
  },
  {
   "cell_type": "markdown",
   "id": "14bf31a7-973b-4afc-83b8-208046f53a44",
   "metadata": {},
   "source": [
    "In this notebook, Data Science Tools and Ecosystem are summarized."
   ]
  },
  {
   "cell_type": "markdown",
   "id": "f16da603-ddfb-4c1e-b222-cd6d556d58f1",
   "metadata": {},
   "source": [
    "**Objectives**\n",
    "+ List some of the popular languages that Data Scientists use\n",
    "+ List some of the commonly used libraries used by Data Scientists\n",
    "+ List some popular data science tools\n"
   ]
  },
  {
   "cell_type": "markdown",
   "id": "261f275a-dc55-4bc6-b088-758d4d5d53fa",
   "metadata": {},
   "source": [
    "Some of the popular languages that Data Scientists use are:\n",
    "1. Python\n",
    "2. R\n",
    "3. SQL\n",
    "4. Java\n",
    "5. Scala"
   ]
  },
  {
   "cell_type": "markdown",
   "id": "42de9ccc-3c1e-4f4c-8872-e5dc13395fce",
   "metadata": {},
   "source": [
    "Some of the commonly used libraries used by Data Scientists include:\n",
    "1. Ggplot2\n",
    "2. Caret\n",
    "3. Numpy\n",
    "4. Matplotlib\n",
    "5. Pandas"
   ]
  },
  {
   "cell_type": "markdown",
   "id": "501817ac-5bcc-4728-a22d-4e52c09f352b",
   "metadata": {},
   "source": [
    "|Data Science Tools|\n",
    "|------------------|\n",
    "| Git |\n",
    "| Visual Studio |\n",
    "| Docker |"
   ]
  },
  {
   "cell_type": "markdown",
   "id": "dc645bf6-871b-46ee-a6ea-b615c88e3ffd",
   "metadata": {},
   "source": [
    "### Below are a few examples of evaluating arithmetic expressions in Python"
   ]
  },
  {
   "cell_type": "code",
   "execution_count": 13,
   "id": "51ff68fc-b657-4062-bff3-0422f18b48af",
   "metadata": {},
   "outputs": [
    {
     "data": {
      "text/plain": [
       "17"
      ]
     },
     "execution_count": 13,
     "metadata": {},
     "output_type": "execute_result"
    }
   ],
   "source": [
    "# This a simple arithmetic expression to mutiply then add integers\n",
    "(3*4)+5"
   ]
  },
  {
   "cell_type": "code",
   "execution_count": 15,
   "id": "a58b49c4-cd3b-4b55-b865-d327c3a13c76",
   "metadata": {},
   "outputs": [
    {
     "data": {
      "text/plain": [
       "3.3333333333333335"
      ]
     },
     "execution_count": 15,
     "metadata": {},
     "output_type": "execute_result"
    }
   ],
   "source": [
    "# This will convert 200 minutes to hours by diving by 60\n",
    "200/60"
   ]
  },
  {
   "cell_type": "markdown",
   "id": "b25fcb69-ebc3-45ce-8c27-6b454094e6d3",
   "metadata": {},
   "source": [
    "## Author\n",
    "Teddy Mark Echessah"
   ]
  }
 ],
 "metadata": {
  "kernelspec": {
   "display_name": "Python [conda env:base] *",
   "language": "python",
   "name": "conda-base-py"
  },
  "language_info": {
   "codemirror_mode": {
    "name": "ipython",
    "version": 3
   },
   "file_extension": ".py",
   "mimetype": "text/x-python",
   "name": "python",
   "nbconvert_exporter": "python",
   "pygments_lexer": "ipython3",
   "version": "3.12.7"
  }
 },
 "nbformat": 4,
 "nbformat_minor": 5
}
